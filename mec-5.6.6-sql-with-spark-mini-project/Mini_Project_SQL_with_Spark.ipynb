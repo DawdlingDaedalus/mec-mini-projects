{
 "cells": [
  {
   "cell_type": "markdown",
   "metadata": {
    "application/vnd.databricks.v1+cell": {
     "cellMetadata": {},
     "inputWidgets": {},
     "nuid": "33396c57-aef5-47e1-8749-ee3859431c12",
     "showTitle": false,
     "title": ""
    }
   },
   "source": [
    "## SQL at Scale with Spark SQL\n",
    "\n",
    "Welcome to the SQL mini project. For this project, you will use the Databricks Platform and work through a series of exercises using Spark SQL. The dataset size may not be too big but the intent here is to familiarize yourself with the Spark SQL interface which scales easily to huge datasets, without you having to worry about changing your SQL queries. \n",
    "\n",
    "The data you need is present in the mini-project folder in the form of three CSV files. This data will be imported in Databricks to create the following tables under the __`country_club`__ database.\n",
    "\n",
    "<br>\n",
    "1. The __`bookings`__ table,\n",
    "2. The __`facilities`__ table, and\n",
    "3. The __`members`__ table.\n",
    "\n",
    "You will be uploading these datasets shortly into the Databricks platform to understand how to create a database within minutes! Once the database and the tables are populated, you will be focusing on the mini-project questions.\n",
    "\n",
    "In the mini project, you'll be asked a series of questions. You can solve them using the databricks platform, but for the final deliverable,\n",
    "please download this notebook as an IPython notebook (__`File -> Export -> IPython Notebook`__) and upload it to your GitHub."
   ]
  },
  {
   "cell_type": "markdown",
   "metadata": {
    "application/vnd.databricks.v1+cell": {
     "cellMetadata": {},
     "inputWidgets": {},
     "nuid": "1c4bd1f0-a8cc-4d6f-ab68-db245a966c35",
     "showTitle": false,
     "title": ""
    }
   },
   "source": [
    "### Creating the Database\n",
    "\n",
    "We will first create our database in which we will be creating our three tables of interest"
   ]
  },
  {
   "cell_type": "code",
   "execution_count": 1,
   "metadata": {
    "application/vnd.databricks.v1+cell": {
     "cellMetadata": {
      "implicitDf": true
     },
     "inputWidgets": {},
     "nuid": "6c87e1e5-ef9b-4268-974b-eacb93807584",
     "showTitle": false,
     "title": ""
    }
   },
   "outputs": [
    {
     "ename": "SyntaxError",
     "evalue": "expected 'else' after 'if' expression (4202119700.py, line 2)",
     "output_type": "error",
     "traceback": [
      "\u001b[0;36m  Cell \u001b[0;32mIn[1], line 2\u001b[0;36m\u001b[0m\n\u001b[0;31m    drop database if exists country_club cascade;\u001b[0m\n\u001b[0m         ^\u001b[0m\n\u001b[0;31mSyntaxError\u001b[0m\u001b[0;31m:\u001b[0m expected 'else' after 'if' expression\n"
     ]
    }
   ],
   "source": [
    "%sql \n",
    "drop database if exists country_club cascade;\n",
    "create database country_club;\n",
    "show databases;"
   ]
  },
  {
   "cell_type": "markdown",
   "metadata": {
    "application/vnd.databricks.v1+cell": {
     "cellMetadata": {},
     "inputWidgets": {},
     "nuid": "6a6a6077-e746-4e79-96de-ed35eb851c6a",
     "showTitle": false,
     "title": ""
    }
   },
   "source": [
    "### Creating the Tables\n",
    "\n",
    "In this section, we will be creating the three tables of interest and populate them with the data from the CSV files already available to you. \n",
    "To get started, first upload the three CSV files to the DBFS as depicted in the following figure\n",
    "\n",
    "![](https://i.imgur.com/QcCruBr.png)\n",
    "\n",
    "\n",
    "Once you have done this, please remember to execute the following code to build the dataframes which will be saved as tables in our database"
   ]
  },
  {
   "cell_type": "code",
   "execution_count": null,
   "metadata": {
    "application/vnd.databricks.v1+cell": {
     "cellMetadata": {},
     "inputWidgets": {},
     "nuid": "5db4a402-11b3-4179-8630-0fb8c6104cb4",
     "showTitle": false,
     "title": ""
    }
   },
   "outputs": [],
   "source": [
    "# File location and type\n",
    "file_location_bookings = \"/FileStore/tables/Bookings.csv\"\n",
    "file_location_facilities = \"/FileStore/tables/Facilities.csv\"\n",
    "file_location_members = \"/FileStore/tables/Members.csv\"\n",
    "\n",
    "file_type = \"csv\"\n",
    "\n",
    "# CSV options\n",
    "infer_schema = \"true\"\n",
    "first_row_is_header = \"true\"\n",
    "delimiter = \",\"\n",
    "\n",
    "# The applied options are for CSV files. For other file types, these will be ignored.\n",
    "bookings_df = (spark.read.format(file_type) \n",
    "                    .option(\"inferSchema\", infer_schema) \n",
    "                    .option(\"header\", first_row_is_header) \n",
    "                    .option(\"sep\", delimiter) \n",
    "                    .load(file_location_bookings))\n",
    "\n",
    "facilities_df = (spark.read.format(file_type) \n",
    "                      .option(\"inferSchema\", infer_schema) \n",
    "                      .option(\"header\", first_row_is_header) \n",
    "                      .option(\"sep\", delimiter) \n",
    "                      .load(file_location_facilities))\n",
    "\n",
    "members_df = (spark.read.format(file_type) \n",
    "                      .option(\"inferSchema\", infer_schema) \n",
    "                      .option(\"header\", first_row_is_header) \n",
    "                      .option(\"sep\", delimiter) \n",
    "                      .load(file_location_members))"
   ]
  },
  {
   "cell_type": "markdown",
   "metadata": {
    "application/vnd.databricks.v1+cell": {
     "cellMetadata": {},
     "inputWidgets": {},
     "nuid": "9e08fce5-8e37-4f49-9e05-b31a3428a3e0",
     "showTitle": false,
     "title": ""
    }
   },
   "source": [
    "### Viewing the dataframe schemas\n",
    "\n",
    "We can take a look at the schemas of our potential tables to be written to our database soon"
   ]
  },
  {
   "cell_type": "code",
   "execution_count": null,
   "metadata": {
    "application/vnd.databricks.v1+cell": {
     "cellMetadata": {},
     "inputWidgets": {},
     "nuid": "ab6289ca-ccd0-465e-8bef-715085c26025",
     "showTitle": false,
     "title": ""
    }
   },
   "outputs": [
    {
     "data": {
      "text/plain": [
       "Bookings Schema\n",
       "root\n",
       " |-- bookid: integer (nullable = true)\n",
       " |-- facid: integer (nullable = true)\n",
       " |-- memid: integer (nullable = true)\n",
       " |-- starttime: timestamp (nullable = true)\n",
       " |-- slots: integer (nullable = true)\n",
       "\n",
       "Facilities Schema\n",
       "root\n",
       " |-- facid: integer (nullable = true)\n",
       " |-- name: string (nullable = true)\n",
       " |-- membercost: double (nullable = true)\n",
       " |-- guestcost: double (nullable = true)\n",
       " |-- initialoutlay: integer (nullable = true)\n",
       " |-- monthlymaintenance: integer (nullable = true)\n",
       "\n",
       "Members Schema\n",
       "root\n",
       " |-- memid: integer (nullable = true)\n",
       " |-- surname: string (nullable = true)\n",
       " |-- firstname: string (nullable = true)\n",
       " |-- address: string (nullable = true)\n",
       " |-- zipcode: integer (nullable = true)\n",
       " |-- telephone: string (nullable = true)\n",
       " |-- recommendedby: integer (nullable = true)\n",
       " |-- joindate: timestamp (nullable = true)\n",
       "\n"
      ]
     },
     "metadata": {
      "application/vnd.databricks.v1+output": {
       "addedWidgets": {},
       "arguments": {},
       "data": "Bookings Schema\nroot\n |-- bookid: integer (nullable = true)\n |-- facid: integer (nullable = true)\n |-- memid: integer (nullable = true)\n |-- starttime: timestamp (nullable = true)\n |-- slots: integer (nullable = true)\n\nFacilities Schema\nroot\n |-- facid: integer (nullable = true)\n |-- name: string (nullable = true)\n |-- membercost: double (nullable = true)\n |-- guestcost: double (nullable = true)\n |-- initialoutlay: integer (nullable = true)\n |-- monthlymaintenance: integer (nullable = true)\n\nMembers Schema\nroot\n |-- memid: integer (nullable = true)\n |-- surname: string (nullable = true)\n |-- firstname: string (nullable = true)\n |-- address: string (nullable = true)\n |-- zipcode: integer (nullable = true)\n |-- telephone: string (nullable = true)\n |-- recommendedby: integer (nullable = true)\n |-- joindate: timestamp (nullable = true)\n\n",
       "datasetInfos": [],
       "metadata": {},
       "removedWidgets": [],
       "type": "ansi"
      }
     },
     "output_type": "display_data"
    }
   ],
   "source": [
    "print('Bookings Schema')\n",
    "bookings_df.printSchema()\n",
    "print('Facilities Schema')\n",
    "facilities_df.printSchema()\n",
    "print('Members Schema')\n",
    "members_df.printSchema()"
   ]
  },
  {
   "cell_type": "markdown",
   "metadata": {
    "application/vnd.databricks.v1+cell": {
     "cellMetadata": {},
     "inputWidgets": {},
     "nuid": "78ac56c4-2e3a-4798-9d87-449590c3c454",
     "showTitle": false,
     "title": ""
    }
   },
   "source": [
    "### Create permanent tables\n",
    "We will be creating three permanent tables here in our __`country_club`__ database as we discussed previously with the following code"
   ]
  },
  {
   "cell_type": "code",
   "execution_count": null,
   "metadata": {
    "application/vnd.databricks.v1+cell": {
     "cellMetadata": {},
     "inputWidgets": {},
     "nuid": "fcbcb0f4-1164-4faa-aafb-f47d0337a594",
     "showTitle": false,
     "title": ""
    }
   },
   "outputs": [],
   "source": [
    "permanent_table_name_bookings = \"country_club.Bookings\"\n",
    "bookings_df.write.format(\"parquet\").saveAsTable(permanent_table_name_bookings)\n",
    "\n",
    "permanent_table_name_facilities = \"country_club.Facilities\"\n",
    "facilities_df.write.format(\"parquet\").saveAsTable(permanent_table_name_facilities)\n",
    "\n",
    "permanent_table_name_members = \"country_club.Members\"\n",
    "members_df.write.format(\"parquet\").saveAsTable(permanent_table_name_members)"
   ]
  },
  {
   "cell_type": "markdown",
   "metadata": {
    "application/vnd.databricks.v1+cell": {
     "cellMetadata": {},
     "inputWidgets": {},
     "nuid": "d46ede17-6c2a-4e6b-9560-11ffb477e6f6",
     "showTitle": false,
     "title": ""
    }
   },
   "source": [
    "### Refresh tables and check them"
   ]
  },
  {
   "cell_type": "code",
   "execution_count": null,
   "metadata": {
    "application/vnd.databricks.v1+cell": {
     "cellMetadata": {
      "implicitDf": true
     },
     "inputWidgets": {},
     "nuid": "a248d54d-b7c1-417d-a347-ba134b7c929d",
     "showTitle": false,
     "title": ""
    }
   },
   "outputs": [
    {
     "data": {
      "text/html": [
       "<style scoped>\n",
       "  .table-result-container {\n",
       "    max-height: 300px;\n",
       "    overflow: auto;\n",
       "  }\n",
       "  table, th, td {\n",
       "    border: 1px solid black;\n",
       "    border-collapse: collapse;\n",
       "  }\n",
       "  th, td {\n",
       "    padding: 5px;\n",
       "  }\n",
       "  th {\n",
       "    text-align: left;\n",
       "  }\n",
       "</style><div class='table-result-container'><table class='table-result'><thead style='background-color: white'><tr><th>database</th><th>tableName</th><th>isTemporary</th></tr></thead><tbody><tr><td>country_club</td><td>bookings</td><td>false</td></tr><tr><td>country_club</td><td>facilities</td><td>false</td></tr><tr><td>country_club</td><td>members</td><td>false</td></tr></tbody></table></div>"
      ]
     },
     "metadata": {
      "application/vnd.databricks.v1+output": {
       "addedWidgets": {},
       "aggData": [],
       "aggError": "",
       "aggOverflow": false,
       "aggSchema": [],
       "aggSeriesLimitReached": false,
       "aggType": "",
       "arguments": {},
       "columnCustomDisplayInfos": {},
       "data": [
        [
         "country_club",
         "bookings",
         false
        ],
        [
         "country_club",
         "facilities",
         false
        ],
        [
         "country_club",
         "members",
         false
        ]
       ],
       "datasetInfos": [],
       "dbfsResultPath": null,
       "isJsonSchema": true,
       "metadata": {},
       "overflow": false,
       "plotOptions": {
        "customPlotOptions": {},
        "displayType": "table",
        "pivotAggregation": null,
        "pivotColumns": null,
        "xColumns": null,
        "yColumns": null
       },
       "removedWidgets": [],
       "schema": [
        {
         "metadata": "{}",
         "name": "database",
         "type": "\"string\""
        },
        {
         "metadata": "{}",
         "name": "tableName",
         "type": "\"string\""
        },
        {
         "metadata": "{}",
         "name": "isTemporary",
         "type": "\"boolean\""
        }
       ],
       "type": "table"
      }
     },
     "output_type": "display_data"
    }
   ],
   "source": [
    "%sql\n",
    "use country_club;\n",
    "REFRESH table bookings;\n",
    "REFRESH table facilities;\n",
    "REFRESH table members;\n",
    "show tables;"
   ]
  },
  {
   "cell_type": "markdown",
   "metadata": {
    "application/vnd.databricks.v1+cell": {
     "cellMetadata": {},
     "inputWidgets": {},
     "nuid": "96b16f50-7fca-487e-a9a6-7ba6d9867e5e",
     "showTitle": false,
     "title": ""
    }
   },
   "source": [
    "### Test a sample SQL query\n",
    "\n",
    "__Note:__ You can use __`%sql`__ at the beginning of a cell and write SQL queries directly as seen in the following cell. Neat isn't it!"
   ]
  },
  {
   "cell_type": "code",
   "execution_count": null,
   "metadata": {
    "application/vnd.databricks.v1+cell": {
     "cellMetadata": {
      "implicitDf": true
     },
     "inputWidgets": {},
     "nuid": "0063f5bc-c17c-4d87-800a-38e957cd3d15",
     "showTitle": false,
     "title": ""
    }
   },
   "outputs": [
    {
     "data": {
      "text/html": [
       "<style scoped>\n",
       "  .table-result-container {\n",
       "    max-height: 300px;\n",
       "    overflow: auto;\n",
       "  }\n",
       "  table, th, td {\n",
       "    border: 1px solid black;\n",
       "    border-collapse: collapse;\n",
       "  }\n",
       "  th, td {\n",
       "    padding: 5px;\n",
       "  }\n",
       "  th {\n",
       "    text-align: left;\n",
       "  }\n",
       "</style><div class='table-result-container'><table class='table-result'><thead style='background-color: white'><tr><th>bookid</th><th>facid</th><th>memid</th><th>starttime</th><th>slots</th></tr></thead><tbody><tr><td>0</td><td>3</td><td>1</td><td>2012-07-03T11:00:00.000+0000</td><td>2</td></tr><tr><td>1</td><td>4</td><td>1</td><td>2012-07-03T08:00:00.000+0000</td><td>2</td></tr><tr><td>2</td><td>6</td><td>0</td><td>2012-07-03T18:00:00.000+0000</td><td>2</td></tr></tbody></table></div>"
      ]
     },
     "metadata": {
      "application/vnd.databricks.v1+output": {
       "addedWidgets": {},
       "aggData": [],
       "aggError": "",
       "aggOverflow": false,
       "aggSchema": [],
       "aggSeriesLimitReached": false,
       "aggType": "",
       "arguments": {},
       "columnCustomDisplayInfos": {},
       "data": [
        [
         0,
         3,
         1,
         "2012-07-03T11:00:00.000+0000",
         2
        ],
        [
         1,
         4,
         1,
         "2012-07-03T08:00:00.000+0000",
         2
        ],
        [
         2,
         6,
         0,
         "2012-07-03T18:00:00.000+0000",
         2
        ]
       ],
       "datasetInfos": [],
       "dbfsResultPath": null,
       "isJsonSchema": true,
       "metadata": {},
       "overflow": false,
       "plotOptions": {
        "customPlotOptions": {},
        "displayType": "table",
        "pivotAggregation": null,
        "pivotColumns": null,
        "xColumns": null,
        "yColumns": null
       },
       "removedWidgets": [],
       "schema": [
        {
         "metadata": "{}",
         "name": "bookid",
         "type": "\"integer\""
        },
        {
         "metadata": "{}",
         "name": "facid",
         "type": "\"integer\""
        },
        {
         "metadata": "{}",
         "name": "memid",
         "type": "\"integer\""
        },
        {
         "metadata": "{}",
         "name": "starttime",
         "type": "\"timestamp\""
        },
        {
         "metadata": "{}",
         "name": "slots",
         "type": "\"integer\""
        }
       ],
       "type": "table"
      }
     },
     "output_type": "display_data"
    }
   ],
   "source": [
    "%sql\n",
    "select * from bookings limit 3"
   ]
  },
  {
   "cell_type": "markdown",
   "metadata": {
    "application/vnd.databricks.v1+cell": {
     "cellMetadata": {},
     "inputWidgets": {},
     "nuid": "61c0bbfe-4c42-4746-89e3-5c3f190fbadd",
     "showTitle": false,
     "title": ""
    }
   },
   "source": [
    "#### Q1: Some of the facilities charge a fee to members, but some do not. Please list the names of the facilities that do."
   ]
  },
  {
   "cell_type": "code",
   "execution_count": null,
   "metadata": {
    "application/vnd.databricks.v1+cell": {
     "cellMetadata": {
      "implicitDf": true
     },
     "inputWidgets": {},
     "nuid": "029e5a82-621f-43c4-a813-512d055b6652",
     "showTitle": false,
     "title": ""
    }
   },
   "outputs": [
    {
     "data": {
      "text/html": [
       "<style scoped>\n",
       "  .table-result-container {\n",
       "    max-height: 300px;\n",
       "    overflow: auto;\n",
       "  }\n",
       "  table, th, td {\n",
       "    border: 1px solid black;\n",
       "    border-collapse: collapse;\n",
       "  }\n",
       "  th, td {\n",
       "    padding: 5px;\n",
       "  }\n",
       "  th {\n",
       "    text-align: left;\n",
       "  }\n",
       "</style><div class='table-result-container'><table class='table-result'><thead style='background-color: white'><tr><th>facid</th><th>name</th></tr></thead><tbody><tr><td>0</td><td>Tennis Court 1</td></tr><tr><td>1</td><td>Tennis Court 2</td></tr><tr><td>4</td><td>Massage Room 1</td></tr><tr><td>5</td><td>Massage Room 2</td></tr><tr><td>6</td><td>Squash Court</td></tr></tbody></table></div>"
      ]
     },
     "metadata": {
      "application/vnd.databricks.v1+output": {
       "addedWidgets": {},
       "aggData": [],
       "aggError": "",
       "aggOverflow": false,
       "aggSchema": [],
       "aggSeriesLimitReached": false,
       "aggType": "",
       "arguments": {},
       "columnCustomDisplayInfos": {},
       "data": [
        [
         0,
         "Tennis Court 1"
        ],
        [
         1,
         "Tennis Court 2"
        ],
        [
         4,
         "Massage Room 1"
        ],
        [
         5,
         "Massage Room 2"
        ],
        [
         6,
         "Squash Court"
        ]
       ],
       "datasetInfos": [],
       "dbfsResultPath": null,
       "isJsonSchema": true,
       "metadata": {},
       "overflow": false,
       "plotOptions": {
        "customPlotOptions": {},
        "displayType": "table",
        "pivotAggregation": null,
        "pivotColumns": null,
        "xColumns": null,
        "yColumns": null
       },
       "removedWidgets": [],
       "schema": [
        {
         "metadata": "{}",
         "name": "facid",
         "type": "\"integer\""
        },
        {
         "metadata": "{}",
         "name": "name",
         "type": "\"string\""
        }
       ],
       "type": "table"
      }
     },
     "output_type": "display_data"
    }
   ],
   "source": [
    "%sql\n",
    "select facid, name from facilities where (membercost != 0) and (membercost IS NOT NULL);"
   ]
  },
  {
   "cell_type": "markdown",
   "metadata": {
    "application/vnd.databricks.v1+cell": {
     "cellMetadata": {},
     "inputWidgets": {},
     "nuid": "34fdea3b-4762-4b8c-876b-1d9365728057",
     "showTitle": false,
     "title": ""
    }
   },
   "source": [
    "####  Q2: How many facilities do not charge a fee to members?"
   ]
  },
  {
   "cell_type": "code",
   "execution_count": null,
   "metadata": {
    "application/vnd.databricks.v1+cell": {
     "cellMetadata": {
      "implicitDf": true
     },
     "inputWidgets": {},
     "nuid": "5e518058-8bb5-4ea2-9dfa-07ea850dca21",
     "showTitle": false,
     "title": ""
    }
   },
   "outputs": [
    {
     "data": {
      "text/html": [
       "<style scoped>\n",
       "  .table-result-container {\n",
       "    max-height: 300px;\n",
       "    overflow: auto;\n",
       "  }\n",
       "  table, th, td {\n",
       "    border: 1px solid black;\n",
       "    border-collapse: collapse;\n",
       "  }\n",
       "  th, td {\n",
       "    padding: 5px;\n",
       "  }\n",
       "  th {\n",
       "    text-align: left;\n",
       "  }\n",
       "</style><div class='table-result-container'><table class='table-result'><thead style='background-color: white'><tr><th>count(1)</th></tr></thead><tbody><tr><td>4</td></tr></tbody></table></div>"
      ]
     },
     "metadata": {
      "application/vnd.databricks.v1+output": {
       "addedWidgets": {},
       "aggData": [],
       "aggError": "",
       "aggOverflow": false,
       "aggSchema": [],
       "aggSeriesLimitReached": false,
       "aggType": "",
       "arguments": {},
       "columnCustomDisplayInfos": {},
       "data": [
        [
         4
        ]
       ],
       "datasetInfos": [],
       "dbfsResultPath": null,
       "isJsonSchema": true,
       "metadata": {},
       "overflow": false,
       "plotOptions": {
        "customPlotOptions": {},
        "displayType": "table",
        "pivotAggregation": null,
        "pivotColumns": null,
        "xColumns": null,
        "yColumns": null
       },
       "removedWidgets": [],
       "schema": [
        {
         "metadata": "{\"__autoGeneratedAlias\":\"true\"}",
         "name": "count(1)",
         "type": "\"long\""
        }
       ],
       "type": "table"
      }
     },
     "output_type": "display_data"
    }
   ],
   "source": [
    "%sql\n",
    "select count(*) from facilities where (membercost = 0) or (membercost is NULL);"
   ]
  },
  {
   "cell_type": "markdown",
   "metadata": {
    "application/vnd.databricks.v1+cell": {
     "cellMetadata": {},
     "inputWidgets": {},
     "nuid": "eac0c167-7769-4ce2-a763-84edcfe9aac9",
     "showTitle": false,
     "title": ""
    }
   },
   "source": [
    "out of curiosity: showing id and names of these facilities"
   ]
  },
  {
   "cell_type": "code",
   "execution_count": null,
   "metadata": {
    "application/vnd.databricks.v1+cell": {
     "cellMetadata": {
      "implicitDf": true
     },
     "inputWidgets": {},
     "nuid": "446473e5-4d56-4eb1-b0b2-3d6f390faaa2",
     "showTitle": false,
     "title": ""
    }
   },
   "outputs": [
    {
     "data": {
      "text/html": [
       "<style scoped>\n",
       "  .table-result-container {\n",
       "    max-height: 300px;\n",
       "    overflow: auto;\n",
       "  }\n",
       "  table, th, td {\n",
       "    border: 1px solid black;\n",
       "    border-collapse: collapse;\n",
       "  }\n",
       "  th, td {\n",
       "    padding: 5px;\n",
       "  }\n",
       "  th {\n",
       "    text-align: left;\n",
       "  }\n",
       "</style><div class='table-result-container'><table class='table-result'><thead style='background-color: white'><tr><th>facid</th><th>name</th></tr></thead><tbody><tr><td>2</td><td>Badminton Court</td></tr><tr><td>3</td><td>Table Tennis</td></tr><tr><td>7</td><td>Snooker Table</td></tr><tr><td>8</td><td>Pool Table</td></tr></tbody></table></div>"
      ]
     },
     "metadata": {
      "application/vnd.databricks.v1+output": {
       "addedWidgets": {},
       "aggData": [],
       "aggError": "",
       "aggOverflow": false,
       "aggSchema": [],
       "aggSeriesLimitReached": false,
       "aggType": "",
       "arguments": {},
       "columnCustomDisplayInfos": {},
       "data": [
        [
         2,
         "Badminton Court"
        ],
        [
         3,
         "Table Tennis"
        ],
        [
         7,
         "Snooker Table"
        ],
        [
         8,
         "Pool Table"
        ]
       ],
       "datasetInfos": [],
       "dbfsResultPath": null,
       "isJsonSchema": true,
       "metadata": {},
       "overflow": false,
       "plotOptions": {
        "customPlotOptions": {},
        "displayType": "table",
        "pivotAggregation": null,
        "pivotColumns": null,
        "xColumns": null,
        "yColumns": null
       },
       "removedWidgets": [],
       "schema": [
        {
         "metadata": "{}",
         "name": "facid",
         "type": "\"integer\""
        },
        {
         "metadata": "{}",
         "name": "name",
         "type": "\"string\""
        }
       ],
       "type": "table"
      }
     },
     "output_type": "display_data"
    }
   ],
   "source": [
    "\n",
    "%sql\n",
    "select facid, name from facilities where (membercost = 0) or (membercost IS NULL);"
   ]
  },
  {
   "cell_type": "markdown",
   "metadata": {
    "application/vnd.databricks.v1+cell": {
     "cellMetadata": {},
     "inputWidgets": {},
     "nuid": "db1364af-37f5-46bc-b181-b87dfcd22351",
     "showTitle": false,
     "title": ""
    }
   },
   "source": [
    "#### Q3: How can you produce a list of facilities that charge a fee to members, where the fee is less than 20% of the facility's monthly maintenance cost? \n",
    "#### Return the facid, facility name, member cost, and monthly maintenance of the facilities in question."
   ]
  },
  {
   "cell_type": "code",
   "execution_count": null,
   "metadata": {
    "application/vnd.databricks.v1+cell": {
     "cellMetadata": {
      "implicitDf": true
     },
     "inputWidgets": {},
     "nuid": "0739040d-c37c-4cb4-9dd5-43ab749bce51",
     "showTitle": false,
     "title": ""
    }
   },
   "outputs": [
    {
     "data": {
      "text/html": [
       "<style scoped>\n",
       "  .table-result-container {\n",
       "    max-height: 300px;\n",
       "    overflow: auto;\n",
       "  }\n",
       "  table, th, td {\n",
       "    border: 1px solid black;\n",
       "    border-collapse: collapse;\n",
       "  }\n",
       "  th, td {\n",
       "    padding: 5px;\n",
       "  }\n",
       "  th {\n",
       "    text-align: left;\n",
       "  }\n",
       "</style><div class='table-result-container'><table class='table-result'><thead style='background-color: white'><tr><th>facid</th><th>name</th><th>membercost</th><th>monthlymaintenance</th><th>twenty_percent_mm</th></tr></thead><tbody><tr><td>0</td><td>Tennis Court 1</td><td>5.0</td><td>200</td><td>40.0</td></tr><tr><td>1</td><td>Tennis Court 2</td><td>5.0</td><td>200</td><td>40.0</td></tr><tr><td>2</td><td>Badminton Court</td><td>0.0</td><td>50</td><td>10.0</td></tr><tr><td>3</td><td>Table Tennis</td><td>0.0</td><td>10</td><td>2.0</td></tr><tr><td>4</td><td>Massage Room 1</td><td>9.9</td><td>3000</td><td>600.0</td></tr><tr><td>5</td><td>Massage Room 2</td><td>9.9</td><td>3000</td><td>600.0</td></tr><tr><td>6</td><td>Squash Court</td><td>3.5</td><td>80</td><td>16.0</td></tr><tr><td>7</td><td>Snooker Table</td><td>0.0</td><td>15</td><td>3.0</td></tr><tr><td>8</td><td>Pool Table</td><td>0.0</td><td>15</td><td>3.0</td></tr></tbody></table></div>"
      ]
     },
     "metadata": {
      "application/vnd.databricks.v1+output": {
       "addedWidgets": {},
       "aggData": [],
       "aggError": "",
       "aggOverflow": false,
       "aggSchema": [],
       "aggSeriesLimitReached": false,
       "aggType": "",
       "arguments": {},
       "columnCustomDisplayInfos": {},
       "data": [
        [
         0,
         "Tennis Court 1",
         5,
         200,
         "40.0"
        ],
        [
         1,
         "Tennis Court 2",
         5,
         200,
         "40.0"
        ],
        [
         2,
         "Badminton Court",
         0,
         50,
         "10.0"
        ],
        [
         3,
         "Table Tennis",
         0,
         10,
         "2.0"
        ],
        [
         4,
         "Massage Room 1",
         9.9,
         3000,
         "600.0"
        ],
        [
         5,
         "Massage Room 2",
         9.9,
         3000,
         "600.0"
        ],
        [
         6,
         "Squash Court",
         3.5,
         80,
         "16.0"
        ],
        [
         7,
         "Snooker Table",
         0,
         15,
         "3.0"
        ],
        [
         8,
         "Pool Table",
         0,
         15,
         "3.0"
        ]
       ],
       "datasetInfos": [],
       "dbfsResultPath": null,
       "isJsonSchema": true,
       "metadata": {},
       "overflow": false,
       "plotOptions": {
        "customPlotOptions": {},
        "displayType": "table",
        "pivotAggregation": null,
        "pivotColumns": null,
        "xColumns": null,
        "yColumns": null
       },
       "removedWidgets": [],
       "schema": [
        {
         "metadata": "{}",
         "name": "facid",
         "type": "\"integer\""
        },
        {
         "metadata": "{}",
         "name": "name",
         "type": "\"string\""
        },
        {
         "metadata": "{}",
         "name": "membercost",
         "type": "\"double\""
        },
        {
         "metadata": "{}",
         "name": "monthlymaintenance",
         "type": "\"integer\""
        },
        {
         "metadata": "{}",
         "name": "twenty_percent_mm",
         "type": "\"decimal(12,1)\""
        }
       ],
       "type": "table"
      }
     },
     "output_type": "display_data"
    }
   ],
   "source": [
    "%sql\n",
    "select facid, name, membercost, monthlymaintenance, monthlymaintenance*0.2 as twenty_percent_mm from facilities where membercost < monthlymaintenance*0.2;"
   ]
  },
  {
   "cell_type": "markdown",
   "metadata": {
    "application/vnd.databricks.v1+cell": {
     "cellMetadata": {},
     "inputWidgets": {},
     "nuid": "d4c641e8-4a14-409e-b206-5280c070ce2c",
     "showTitle": false,
     "title": ""
    }
   },
   "source": [
    "#### Q4: How can you retrieve the details of facilities with ID 1 and 5? Write the query without using the OR operator."
   ]
  },
  {
   "cell_type": "code",
   "execution_count": null,
   "metadata": {
    "application/vnd.databricks.v1+cell": {
     "cellMetadata": {
      "implicitDf": true
     },
     "inputWidgets": {},
     "nuid": "e0165024-9032-4d7e-bac8-1ef107e670a7",
     "showTitle": false,
     "title": ""
    }
   },
   "outputs": [
    {
     "data": {
      "text/html": [
       "<style scoped>\n",
       "  .table-result-container {\n",
       "    max-height: 300px;\n",
       "    overflow: auto;\n",
       "  }\n",
       "  table, th, td {\n",
       "    border: 1px solid black;\n",
       "    border-collapse: collapse;\n",
       "  }\n",
       "  th, td {\n",
       "    padding: 5px;\n",
       "  }\n",
       "  th {\n",
       "    text-align: left;\n",
       "  }\n",
       "</style><div class='table-result-container'><table class='table-result'><thead style='background-color: white'><tr><th>facid</th><th>name</th><th>membercost</th><th>guestcost</th><th>initialoutlay</th><th>monthlymaintenance</th></tr></thead><tbody><tr><td>1</td><td>Tennis Court 2</td><td>5.0</td><td>25.0</td><td>8000</td><td>200</td></tr><tr><td>5</td><td>Massage Room 2</td><td>9.9</td><td>80.0</td><td>4000</td><td>3000</td></tr></tbody></table></div>"
      ]
     },
     "metadata": {
      "application/vnd.databricks.v1+output": {
       "addedWidgets": {},
       "aggData": [],
       "aggError": "",
       "aggOverflow": false,
       "aggSchema": [],
       "aggSeriesLimitReached": false,
       "aggType": "",
       "arguments": {},
       "columnCustomDisplayInfos": {},
       "data": [
        [
         1,
         "Tennis Court 2",
         5,
         25,
         8000,
         200
        ],
        [
         5,
         "Massage Room 2",
         9.9,
         80,
         4000,
         3000
        ]
       ],
       "datasetInfos": [],
       "dbfsResultPath": null,
       "isJsonSchema": true,
       "metadata": {},
       "overflow": false,
       "plotOptions": {
        "customPlotOptions": {},
        "displayType": "table",
        "pivotAggregation": null,
        "pivotColumns": null,
        "xColumns": null,
        "yColumns": null
       },
       "removedWidgets": [],
       "schema": [
        {
         "metadata": "{}",
         "name": "facid",
         "type": "\"integer\""
        },
        {
         "metadata": "{}",
         "name": "name",
         "type": "\"string\""
        },
        {
         "metadata": "{}",
         "name": "membercost",
         "type": "\"double\""
        },
        {
         "metadata": "{}",
         "name": "guestcost",
         "type": "\"double\""
        },
        {
         "metadata": "{}",
         "name": "initialoutlay",
         "type": "\"integer\""
        },
        {
         "metadata": "{}",
         "name": "monthlymaintenance",
         "type": "\"integer\""
        }
       ],
       "type": "table"
      }
     },
     "output_type": "display_data"
    }
   ],
   "source": [
    "%sql\n",
    "select * from facilities where facid in (1, 5);"
   ]
  },
  {
   "cell_type": "markdown",
   "metadata": {
    "application/vnd.databricks.v1+cell": {
     "cellMetadata": {},
     "inputWidgets": {},
     "nuid": "605ae6df-a511-4834-a87d-b448f59482bd",
     "showTitle": false,
     "title": ""
    }
   },
   "source": [
    "#### Q5: How can you produce a list of facilities, with each labelled as 'cheap' or 'expensive', depending on if their monthly maintenance cost is more than $100? \n",
    "#### Return the name and monthly maintenance of the facilities in question."
   ]
  },
  {
   "cell_type": "code",
   "execution_count": null,
   "metadata": {
    "application/vnd.databricks.v1+cell": {
     "cellMetadata": {
      "implicitDf": true
     },
     "inputWidgets": {},
     "nuid": "ecd744b9-db1f-4290-946c-ef3efc87ea68",
     "showTitle": false,
     "title": ""
    }
   },
   "outputs": [
    {
     "data": {
      "text/html": [
       "<style scoped>\n",
       "  .table-result-container {\n",
       "    max-height: 300px;\n",
       "    overflow: auto;\n",
       "  }\n",
       "  table, th, td {\n",
       "    border: 1px solid black;\n",
       "    border-collapse: collapse;\n",
       "  }\n",
       "  th, td {\n",
       "    padding: 5px;\n",
       "  }\n",
       "  th {\n",
       "    text-align: left;\n",
       "  }\n",
       "</style><div class='table-result-container'><table class='table-result'><thead style='background-color: white'><tr><th>name</th><th>monthlymaintenance</th><th>labelled</th></tr></thead><tbody><tr><td>Tennis Court 1</td><td>200</td><td>expensive</td></tr><tr><td>Tennis Court 2</td><td>200</td><td>expensive</td></tr><tr><td>Badminton Court</td><td>50</td><td>cheap</td></tr><tr><td>Table Tennis</td><td>10</td><td>cheap</td></tr><tr><td>Massage Room 1</td><td>3000</td><td>expensive</td></tr><tr><td>Massage Room 2</td><td>3000</td><td>expensive</td></tr><tr><td>Squash Court</td><td>80</td><td>cheap</td></tr><tr><td>Snooker Table</td><td>15</td><td>cheap</td></tr><tr><td>Pool Table</td><td>15</td><td>cheap</td></tr></tbody></table></div>"
      ]
     },
     "metadata": {
      "application/vnd.databricks.v1+output": {
       "addedWidgets": {},
       "aggData": [],
       "aggError": "",
       "aggOverflow": false,
       "aggSchema": [],
       "aggSeriesLimitReached": false,
       "aggType": "",
       "arguments": {},
       "columnCustomDisplayInfos": {},
       "data": [
        [
         "Tennis Court 1",
         200,
         "expensive"
        ],
        [
         "Tennis Court 2",
         200,
         "expensive"
        ],
        [
         "Badminton Court",
         50,
         "cheap"
        ],
        [
         "Table Tennis",
         10,
         "cheap"
        ],
        [
         "Massage Room 1",
         3000,
         "expensive"
        ],
        [
         "Massage Room 2",
         3000,
         "expensive"
        ],
        [
         "Squash Court",
         80,
         "cheap"
        ],
        [
         "Snooker Table",
         15,
         "cheap"
        ],
        [
         "Pool Table",
         15,
         "cheap"
        ]
       ],
       "datasetInfos": [],
       "dbfsResultPath": null,
       "isJsonSchema": true,
       "metadata": {},
       "overflow": false,
       "plotOptions": {
        "customPlotOptions": {},
        "displayType": "table",
        "pivotAggregation": null,
        "pivotColumns": null,
        "xColumns": null,
        "yColumns": null
       },
       "removedWidgets": [],
       "schema": [
        {
         "metadata": "{}",
         "name": "name",
         "type": "\"string\""
        },
        {
         "metadata": "{}",
         "name": "monthlymaintenance",
         "type": "\"integer\""
        },
        {
         "metadata": "{}",
         "name": "labelled",
         "type": "\"string\""
        }
       ],
       "type": "table"
      }
     },
     "output_type": "display_data"
    }
   ],
   "source": [
    "%sql\n",
    "select name, \n",
    "monthlymaintenance, \n",
    "case \n",
    "when monthlymaintenance > 100 then \"expensive\"\n",
    "else \"cheap\"\n",
    "end\n",
    "as labelled\n",
    "from facilities;"
   ]
  },
  {
   "cell_type": "markdown",
   "metadata": {
    "application/vnd.databricks.v1+cell": {
     "cellMetadata": {},
     "inputWidgets": {},
     "nuid": "eb63c8dd-308e-40a6-b2bd-0c40bb7acf2c",
     "showTitle": false,
     "title": ""
    }
   },
   "source": [
    "#### Q6: You'd like to get the first and last name of the last member(s) who signed up. Do not use the LIMIT clause for your solution."
   ]
  },
  {
   "cell_type": "markdown",
   "metadata": {
    "application/vnd.databricks.v1+cell": {
     "cellMetadata": {},
     "inputWidgets": {},
     "nuid": "4680edfb-c42e-4b07-b1f0-f09fe2294717",
     "showTitle": false,
     "title": ""
    }
   },
   "source": [
    "the request for Q6 is a bit vague: I will be solving for 2 possible interpretations\n",
    "\n",
    "1. interpretation 1: show members who have signed up to be members of country_club (assuming joindate is NULL when the member has not signed up yet)\n",
    "2. interpretation 2: show members who have signed up to utilize facilites (if memid in bookings.memid)"
   ]
  },
  {
   "cell_type": "code",
   "execution_count": null,
   "metadata": {
    "application/vnd.databricks.v1+cell": {
     "cellMetadata": {
      "implicitDf": true
     },
     "inputWidgets": {},
     "nuid": "d36496fb-52fd-4d8c-bcd0-0462d5afb7bc",
     "showTitle": false,
     "title": ""
    }
   },
   "outputs": [
    {
     "data": {
      "text/html": [
       "<style scoped>\n",
       "  .table-result-container {\n",
       "    max-height: 300px;\n",
       "    overflow: auto;\n",
       "  }\n",
       "  table, th, td {\n",
       "    border: 1px solid black;\n",
       "    border-collapse: collapse;\n",
       "  }\n",
       "  th, td {\n",
       "    padding: 5px;\n",
       "  }\n",
       "  th {\n",
       "    text-align: left;\n",
       "  }\n",
       "</style><div class='table-result-container'><table class='table-result'><thead style='background-color: white'><tr><th>memid</th><th>firstname</th><th>surname</th></tr></thead><tbody><tr><td>0</td><td>GUEST</td><td>GUEST</td></tr><tr><td>1</td><td>Darren</td><td>Smith</td></tr><tr><td>2</td><td>Tracy</td><td>Smith</td></tr><tr><td>3</td><td>Tim</td><td>Rownam</td></tr><tr><td>4</td><td>Janice</td><td>Joplette</td></tr><tr><td>5</td><td>Gerald</td><td>Butters</td></tr><tr><td>6</td><td>Burton</td><td>Tracy</td></tr><tr><td>7</td><td>Nancy</td><td>Dare</td></tr><tr><td>8</td><td>Tim</td><td>Boothe</td></tr><tr><td>9</td><td>Ponder</td><td>Stibbons</td></tr><tr><td>10</td><td>Charles</td><td>Owen</td></tr><tr><td>11</td><td>David</td><td>Jones</td></tr><tr><td>12</td><td>Anne</td><td>Baker</td></tr><tr><td>13</td><td>Jemima</td><td>Farrell</td></tr><tr><td>14</td><td>Jack</td><td>Smith</td></tr><tr><td>15</td><td>Florence</td><td>Bader</td></tr><tr><td>16</td><td>Timothy</td><td>Baker</td></tr><tr><td>17</td><td>David</td><td>Pinker</td></tr><tr><td>20</td><td>Matthew</td><td>Genting</td></tr><tr><td>21</td><td>Anna</td><td>Mackenzie</td></tr><tr><td>22</td><td>Joan</td><td>Coplin</td></tr><tr><td>24</td><td>Ramnaresh</td><td>Sarwin</td></tr><tr><td>26</td><td>Douglas</td><td>Jones</td></tr><tr><td>27</td><td>Henrietta</td><td>Rumney</td></tr><tr><td>28</td><td>David</td><td>Farrell</td></tr><tr><td>29</td><td>Henry</td><td>Worthington-Smyth</td></tr><tr><td>30</td><td>Millicent</td><td>Purview</td></tr><tr><td>33</td><td>Hyacinth</td><td>Tupperware</td></tr><tr><td>35</td><td>John</td><td>Hunt</td></tr><tr><td>36</td><td>Erica</td><td>Crumpet</td></tr><tr><td>37</td><td>Darren</td><td>Smith</td></tr></tbody></table></div>"
      ]
     },
     "metadata": {
      "application/vnd.databricks.v1+output": {
       "addedWidgets": {},
       "aggData": [],
       "aggError": "",
       "aggOverflow": false,
       "aggSchema": [],
       "aggSeriesLimitReached": false,
       "aggType": "",
       "arguments": {},
       "columnCustomDisplayInfos": {},
       "data": [
        [
         0,
         "GUEST",
         "GUEST"
        ],
        [
         1,
         "Darren",
         "Smith"
        ],
        [
         2,
         "Tracy",
         "Smith"
        ],
        [
         3,
         "Tim",
         "Rownam"
        ],
        [
         4,
         "Janice",
         "Joplette"
        ],
        [
         5,
         "Gerald",
         "Butters"
        ],
        [
         6,
         "Burton",
         "Tracy"
        ],
        [
         7,
         "Nancy",
         "Dare"
        ],
        [
         8,
         "Tim",
         "Boothe"
        ],
        [
         9,
         "Ponder",
         "Stibbons"
        ],
        [
         10,
         "Charles",
         "Owen"
        ],
        [
         11,
         "David",
         "Jones"
        ],
        [
         12,
         "Anne",
         "Baker"
        ],
        [
         13,
         "Jemima",
         "Farrell"
        ],
        [
         14,
         "Jack",
         "Smith"
        ],
        [
         15,
         "Florence",
         "Bader"
        ],
        [
         16,
         "Timothy",
         "Baker"
        ],
        [
         17,
         "David",
         "Pinker"
        ],
        [
         20,
         "Matthew",
         "Genting"
        ],
        [
         21,
         "Anna",
         "Mackenzie"
        ],
        [
         22,
         "Joan",
         "Coplin"
        ],
        [
         24,
         "Ramnaresh",
         "Sarwin"
        ],
        [
         26,
         "Douglas",
         "Jones"
        ],
        [
         27,
         "Henrietta",
         "Rumney"
        ],
        [
         28,
         "David",
         "Farrell"
        ],
        [
         29,
         "Henry",
         "Worthington-Smyth"
        ],
        [
         30,
         "Millicent",
         "Purview"
        ],
        [
         33,
         "Hyacinth",
         "Tupperware"
        ],
        [
         35,
         "John",
         "Hunt"
        ],
        [
         36,
         "Erica",
         "Crumpet"
        ],
        [
         37,
         "Darren",
         "Smith"
        ]
       ],
       "datasetInfos": [],
       "dbfsResultPath": null,
       "isJsonSchema": true,
       "metadata": {},
       "overflow": false,
       "plotOptions": {
        "customPlotOptions": {},
        "displayType": "table",
        "pivotAggregation": null,
        "pivotColumns": null,
        "xColumns": null,
        "yColumns": null
       },
       "removedWidgets": [],
       "schema": [
        {
         "metadata": "{}",
         "name": "memid",
         "type": "\"integer\""
        },
        {
         "metadata": "{}",
         "name": "firstname",
         "type": "\"string\""
        },
        {
         "metadata": "{}",
         "name": "surname",
         "type": "\"string\""
        }
       ],
       "type": "table"
      }
     },
     "output_type": "display_data"
    }
   ],
   "source": [
    "%sql\n",
    "select memid, firstname, surname from members where joindate is not NULL;"
   ]
  },
  {
   "cell_type": "code",
   "execution_count": null,
   "metadata": {
    "application/vnd.databricks.v1+cell": {
     "cellMetadata": {
      "implicitDf": true
     },
     "inputWidgets": {},
     "nuid": "486e740a-111c-4fe4-a3b1-fe02ade0e9af",
     "showTitle": false,
     "title": ""
    }
   },
   "outputs": [
    {
     "data": {
      "text/html": [
       "<style scoped>\n",
       "  .table-result-container {\n",
       "    max-height: 300px;\n",
       "    overflow: auto;\n",
       "  }\n",
       "  table, th, td {\n",
       "    border: 1px solid black;\n",
       "    border-collapse: collapse;\n",
       "  }\n",
       "  th, td {\n",
       "    padding: 5px;\n",
       "  }\n",
       "  th {\n",
       "    text-align: left;\n",
       "  }\n",
       "</style><div class='table-result-container'><table class='table-result'><thead style='background-color: white'><tr><th>memid</th><th>firstname</th><th>surname</th></tr></thead><tbody><tr><td>0</td><td>GUEST</td><td>GUEST</td></tr><tr><td>1</td><td>Darren</td><td>Smith</td></tr><tr><td>2</td><td>Tracy</td><td>Smith</td></tr><tr><td>3</td><td>Tim</td><td>Rownam</td></tr><tr><td>4</td><td>Janice</td><td>Joplette</td></tr><tr><td>5</td><td>Gerald</td><td>Butters</td></tr><tr><td>6</td><td>Burton</td><td>Tracy</td></tr><tr><td>7</td><td>Nancy</td><td>Dare</td></tr><tr><td>8</td><td>Tim</td><td>Boothe</td></tr><tr><td>9</td><td>Ponder</td><td>Stibbons</td></tr><tr><td>10</td><td>Charles</td><td>Owen</td></tr><tr><td>11</td><td>David</td><td>Jones</td></tr><tr><td>12</td><td>Anne</td><td>Baker</td></tr><tr><td>13</td><td>Jemima</td><td>Farrell</td></tr><tr><td>14</td><td>Jack</td><td>Smith</td></tr><tr><td>15</td><td>Florence</td><td>Bader</td></tr><tr><td>16</td><td>Timothy</td><td>Baker</td></tr><tr><td>17</td><td>David</td><td>Pinker</td></tr><tr><td>20</td><td>Matthew</td><td>Genting</td></tr><tr><td>21</td><td>Anna</td><td>Mackenzie</td></tr><tr><td>22</td><td>Joan</td><td>Coplin</td></tr><tr><td>24</td><td>Ramnaresh</td><td>Sarwin</td></tr><tr><td>26</td><td>Douglas</td><td>Jones</td></tr><tr><td>27</td><td>Henrietta</td><td>Rumney</td></tr><tr><td>28</td><td>David</td><td>Farrell</td></tr><tr><td>29</td><td>Henry</td><td>Worthington-Smyth</td></tr><tr><td>30</td><td>Millicent</td><td>Purview</td></tr><tr><td>33</td><td>Hyacinth</td><td>Tupperware</td></tr><tr><td>35</td><td>John</td><td>Hunt</td></tr><tr><td>36</td><td>Erica</td><td>Crumpet</td></tr></tbody></table></div>"
      ]
     },
     "metadata": {
      "application/vnd.databricks.v1+output": {
       "addedWidgets": {},
       "aggData": [],
       "aggError": "",
       "aggOverflow": false,
       "aggSchema": [],
       "aggSeriesLimitReached": false,
       "aggType": "",
       "arguments": {},
       "columnCustomDisplayInfos": {},
       "data": [
        [
         0,
         "GUEST",
         "GUEST"
        ],
        [
         1,
         "Darren",
         "Smith"
        ],
        [
         2,
         "Tracy",
         "Smith"
        ],
        [
         3,
         "Tim",
         "Rownam"
        ],
        [
         4,
         "Janice",
         "Joplette"
        ],
        [
         5,
         "Gerald",
         "Butters"
        ],
        [
         6,
         "Burton",
         "Tracy"
        ],
        [
         7,
         "Nancy",
         "Dare"
        ],
        [
         8,
         "Tim",
         "Boothe"
        ],
        [
         9,
         "Ponder",
         "Stibbons"
        ],
        [
         10,
         "Charles",
         "Owen"
        ],
        [
         11,
         "David",
         "Jones"
        ],
        [
         12,
         "Anne",
         "Baker"
        ],
        [
         13,
         "Jemima",
         "Farrell"
        ],
        [
         14,
         "Jack",
         "Smith"
        ],
        [
         15,
         "Florence",
         "Bader"
        ],
        [
         16,
         "Timothy",
         "Baker"
        ],
        [
         17,
         "David",
         "Pinker"
        ],
        [
         20,
         "Matthew",
         "Genting"
        ],
        [
         21,
         "Anna",
         "Mackenzie"
        ],
        [
         22,
         "Joan",
         "Coplin"
        ],
        [
         24,
         "Ramnaresh",
         "Sarwin"
        ],
        [
         26,
         "Douglas",
         "Jones"
        ],
        [
         27,
         "Henrietta",
         "Rumney"
        ],
        [
         28,
         "David",
         "Farrell"
        ],
        [
         29,
         "Henry",
         "Worthington-Smyth"
        ],
        [
         30,
         "Millicent",
         "Purview"
        ],
        [
         33,
         "Hyacinth",
         "Tupperware"
        ],
        [
         35,
         "John",
         "Hunt"
        ],
        [
         36,
         "Erica",
         "Crumpet"
        ]
       ],
       "datasetInfos": [],
       "dbfsResultPath": null,
       "isJsonSchema": true,
       "metadata": {},
       "overflow": false,
       "plotOptions": {
        "customPlotOptions": {},
        "displayType": "table",
        "pivotAggregation": null,
        "pivotColumns": null,
        "xColumns": null,
        "yColumns": null
       },
       "removedWidgets": [],
       "schema": [
        {
         "metadata": "{}",
         "name": "memid",
         "type": "\"integer\""
        },
        {
         "metadata": "{}",
         "name": "firstname",
         "type": "\"string\""
        },
        {
         "metadata": "{}",
         "name": "surname",
         "type": "\"string\""
        }
       ],
       "type": "table"
      }
     },
     "output_type": "display_data"
    }
   ],
   "source": [
    "%sql\n",
    "select m.memid, m.firstname, m.surname \n",
    "from members m \n",
    "where exists\n",
    "(select b.memid \n",
    "from bookings b \n",
    "where m.memid = b.memid);"
   ]
  },
  {
   "cell_type": "markdown",
   "metadata": {
    "application/vnd.databricks.v1+cell": {
     "cellMetadata": {},
     "inputWidgets": {},
     "nuid": "9559f60b-c013-45e5-b345-2efa0b900e88",
     "showTitle": false,
     "title": ""
    }
   },
   "source": [
    "####  Q7: How can you produce a list of all members who have used a tennis court?\n",
    "- Include in your output the name of the court, and the name of the member formatted as a single column. \n",
    "- Ensure no duplicate data\n",
    "- Also order by the member name."
   ]
  },
  {
   "cell_type": "markdown",
   "metadata": {
    "application/vnd.databricks.v1+cell": {
     "cellMetadata": {},
     "inputWidgets": {},
     "nuid": "7b81a20e-4194-45be-a439-92566c177745",
     "showTitle": false,
     "title": ""
    }
   },
   "source": [
    "I have questions about Q7:\n",
    "- Why is the 1st query missing 3 of the guests? the difference b/w 1st & 2nd queries is that \"bookings.facid in (0, 1)\" in the first's subquery is instead filtered by \"facilities.facid in (0, 1)\" of the second's main query\n",
    "- How could I show non-duplicate members names and also the court name when there are multiple courts? Could I pull a view grouped by distinct member names? Not sure how I would do this. Did not discover."
   ]
  },
  {
   "cell_type": "code",
   "execution_count": null,
   "metadata": {
    "application/vnd.databricks.v1+cell": {
     "cellMetadata": {
      "implicitDf": true
     },
     "inputWidgets": {},
     "nuid": "7dcac50b-acbb-4873-bd2b-ac034c1b9858",
     "showTitle": false,
     "title": ""
    }
   },
   "outputs": [
    {
     "data": {
      "text/html": [
       "<style scoped>\n",
       "  .table-result-container {\n",
       "    max-height: 300px;\n",
       "    overflow: auto;\n",
       "  }\n",
       "  table, th, td {\n",
       "    border: 1px solid black;\n",
       "    border-collapse: collapse;\n",
       "  }\n",
       "  th, td {\n",
       "    padding: 5px;\n",
       "  }\n",
       "  th {\n",
       "    text-align: left;\n",
       "  }\n",
       "</style><div class='table-result-container'><table class='table-result'><thead style='background-color: white'><tr><th>member_name</th></tr></thead><tbody><tr><td>Anne Baker</td></tr><tr><td>Burton Tracy</td></tr><tr><td>Charles Owen</td></tr><tr><td>Darren Smith</td></tr><tr><td>David Farrell</td></tr><tr><td>David Jones</td></tr><tr><td>David Pinker</td></tr><tr><td>Douglas Jones</td></tr><tr><td>Erica Crumpet</td></tr><tr><td>Florence Bader</td></tr><tr><td>GUEST GUEST</td></tr><tr><td>Gerald Butters</td></tr><tr><td>Henrietta Rumney</td></tr><tr><td>Jack Smith</td></tr><tr><td>Janice Joplette</td></tr><tr><td>Jemima Farrell</td></tr><tr><td>Joan Coplin</td></tr><tr><td>John Hunt</td></tr><tr><td>Matthew Genting</td></tr><tr><td>Millicent Purview</td></tr><tr><td>Nancy Dare</td></tr><tr><td>Ponder Stibbons</td></tr><tr><td>Ramnaresh Sarwin</td></tr><tr><td>Tim Boothe</td></tr><tr><td>Tim Rownam</td></tr><tr><td>Timothy Baker</td></tr><tr><td>Tracy Smith</td></tr></tbody></table></div>"
      ]
     },
     "metadata": {
      "application/vnd.databricks.v1+output": {
       "addedWidgets": {},
       "aggData": [],
       "aggError": "",
       "aggOverflow": false,
       "aggSchema": [],
       "aggSeriesLimitReached": false,
       "aggType": "",
       "arguments": {},
       "columnCustomDisplayInfos": {},
       "data": [
        [
         "Anne Baker"
        ],
        [
         "Burton Tracy"
        ],
        [
         "Charles Owen"
        ],
        [
         "Darren Smith"
        ],
        [
         "David Farrell"
        ],
        [
         "David Jones"
        ],
        [
         "David Pinker"
        ],
        [
         "Douglas Jones"
        ],
        [
         "Erica Crumpet"
        ],
        [
         "Florence Bader"
        ],
        [
         "GUEST GUEST"
        ],
        [
         "Gerald Butters"
        ],
        [
         "Henrietta Rumney"
        ],
        [
         "Jack Smith"
        ],
        [
         "Janice Joplette"
        ],
        [
         "Jemima Farrell"
        ],
        [
         "Joan Coplin"
        ],
        [
         "John Hunt"
        ],
        [
         "Matthew Genting"
        ],
        [
         "Millicent Purview"
        ],
        [
         "Nancy Dare"
        ],
        [
         "Ponder Stibbons"
        ],
        [
         "Ramnaresh Sarwin"
        ],
        [
         "Tim Boothe"
        ],
        [
         "Tim Rownam"
        ],
        [
         "Timothy Baker"
        ],
        [
         "Tracy Smith"
        ]
       ],
       "datasetInfos": [],
       "dbfsResultPath": null,
       "isJsonSchema": true,
       "metadata": {},
       "overflow": false,
       "plotOptions": {
        "customPlotOptions": {},
        "displayType": "table",
        "pivotAggregation": null,
        "pivotColumns": null,
        "xColumns": null,
        "yColumns": null
       },
       "removedWidgets": [],
       "schema": [
        {
         "metadata": "{}",
         "name": "member_name",
         "type": "\"string\""
        }
       ],
       "type": "table"
      }
     },
     "output_type": "display_data"
    }
   ],
   "source": [
    "%sql\n",
    "select CONCAT(members.firstname, ' ', members.surname) as member_name\n",
    "from members \n",
    "where exists \n",
    "(select bookings.memid \n",
    "from bookings \n",
    "where members.memid = bookings.memid\n",
    "and bookings.facid in (0, 1))\n",
    "order by member_name;"
   ]
  },
  {
   "cell_type": "code",
   "execution_count": null,
   "metadata": {
    "application/vnd.databricks.v1+cell": {
     "cellMetadata": {
      "implicitDf": true
     },
     "inputWidgets": {},
     "nuid": "1e0d29d0-a026-46cf-9319-89d79ea0eb88",
     "showTitle": false,
     "title": ""
    }
   },
   "outputs": [
    {
     "data": {
      "text/html": [
       "<style scoped>\n",
       "  .table-result-container {\n",
       "    max-height: 300px;\n",
       "    overflow: auto;\n",
       "  }\n",
       "  table, th, td {\n",
       "    border: 1px solid black;\n",
       "    border-collapse: collapse;\n",
       "  }\n",
       "  th, td {\n",
       "    padding: 5px;\n",
       "  }\n",
       "  th {\n",
       "    text-align: left;\n",
       "  }\n",
       "</style><div class='table-result-container'><table class='table-result'><thead style='background-color: white'><tr><th>member_name</th><th>name_of_court</th></tr></thead><tbody><tr><td>Anna Mackenzie</td><td>Tennis Court 1</td></tr><tr><td>Anna Mackenzie</td><td>Tennis Court 2</td></tr><tr><td>Anne Baker</td><td>Tennis Court 1</td></tr><tr><td>Anne Baker</td><td>Tennis Court 2</td></tr><tr><td>Burton Tracy</td><td>Tennis Court 2</td></tr><tr><td>Burton Tracy</td><td>Tennis Court 1</td></tr><tr><td>Charles Owen</td><td>Tennis Court 2</td></tr><tr><td>Charles Owen</td><td>Tennis Court 1</td></tr><tr><td>Darren Smith</td><td>Tennis Court 1</td></tr><tr><td>Darren Smith</td><td>Tennis Court 2</td></tr><tr><td>David Farrell</td><td>Tennis Court 2</td></tr><tr><td>David Farrell</td><td>Tennis Court 1</td></tr><tr><td>David Jones</td><td>Tennis Court 2</td></tr><tr><td>David Jones</td><td>Tennis Court 1</td></tr><tr><td>David Pinker</td><td>Tennis Court 1</td></tr><tr><td>David Pinker</td><td>Tennis Court 2</td></tr><tr><td>Douglas Jones</td><td>Tennis Court 2</td></tr><tr><td>Douglas Jones</td><td>Tennis Court 1</td></tr><tr><td>Erica Crumpet</td><td>Tennis Court 1</td></tr><tr><td>Erica Crumpet</td><td>Tennis Court 2</td></tr><tr><td>Florence Bader</td><td>Tennis Court 1</td></tr><tr><td>Florence Bader</td><td>Tennis Court 2</td></tr><tr><td>GUEST GUEST</td><td>Tennis Court 2</td></tr><tr><td>GUEST GUEST</td><td>Tennis Court 1</td></tr><tr><td>Gerald Butters</td><td>Tennis Court 1</td></tr><tr><td>Gerald Butters</td><td>Tennis Court 2</td></tr><tr><td>Henrietta Rumney</td><td>Tennis Court 1</td></tr><tr><td>Henrietta Rumney</td><td>Tennis Court 2</td></tr><tr><td>Henry Worthington-Smyth</td><td>Tennis Court 1</td></tr><tr><td>Henry Worthington-Smyth</td><td>Tennis Court 2</td></tr><tr><td>Hyacinth Tupperware</td><td>Tennis Court 1</td></tr><tr><td>Hyacinth Tupperware</td><td>Tennis Court 2</td></tr><tr><td>Jack Smith</td><td>Tennis Court 2</td></tr><tr><td>Jack Smith</td><td>Tennis Court 1</td></tr><tr><td>Janice Joplette</td><td>Tennis Court 1</td></tr><tr><td>Janice Joplette</td><td>Tennis Court 2</td></tr><tr><td>Jemima Farrell</td><td>Tennis Court 1</td></tr><tr><td>Jemima Farrell</td><td>Tennis Court 2</td></tr><tr><td>Joan Coplin</td><td>Tennis Court 1</td></tr><tr><td>Joan Coplin</td><td>Tennis Court 2</td></tr><tr><td>John Hunt</td><td>Tennis Court 2</td></tr><tr><td>John Hunt</td><td>Tennis Court 1</td></tr><tr><td>Matthew Genting</td><td>Tennis Court 2</td></tr><tr><td>Matthew Genting</td><td>Tennis Court 1</td></tr><tr><td>Millicent Purview</td><td>Tennis Court 2</td></tr><tr><td>Millicent Purview</td><td>Tennis Court 1</td></tr><tr><td>Nancy Dare</td><td>Tennis Court 1</td></tr><tr><td>Nancy Dare</td><td>Tennis Court 2</td></tr><tr><td>Ponder Stibbons</td><td>Tennis Court 1</td></tr><tr><td>Ponder Stibbons</td><td>Tennis Court 2</td></tr><tr><td>Ramnaresh Sarwin</td><td>Tennis Court 1</td></tr><tr><td>Ramnaresh Sarwin</td><td>Tennis Court 2</td></tr><tr><td>Tim Boothe</td><td>Tennis Court 1</td></tr><tr><td>Tim Boothe</td><td>Tennis Court 2</td></tr><tr><td>Tim Rownam</td><td>Tennis Court 1</td></tr><tr><td>Tim Rownam</td><td>Tennis Court 2</td></tr><tr><td>Timothy Baker</td><td>Tennis Court 1</td></tr><tr><td>Timothy Baker</td><td>Tennis Court 2</td></tr><tr><td>Tracy Smith</td><td>Tennis Court 2</td></tr><tr><td>Tracy Smith</td><td>Tennis Court 1</td></tr></tbody></table></div>"
      ]
     },
     "metadata": {
      "application/vnd.databricks.v1+output": {
       "addedWidgets": {},
       "aggData": [],
       "aggError": "",
       "aggOverflow": false,
       "aggSchema": [],
       "aggSeriesLimitReached": false,
       "aggType": "",
       "arguments": {},
       "columnCustomDisplayInfos": {},
       "data": [
        [
         "Anna Mackenzie",
         "Tennis Court 1"
        ],
        [
         "Anna Mackenzie",
         "Tennis Court 2"
        ],
        [
         "Anne Baker",
         "Tennis Court 1"
        ],
        [
         "Anne Baker",
         "Tennis Court 2"
        ],
        [
         "Burton Tracy",
         "Tennis Court 2"
        ],
        [
         "Burton Tracy",
         "Tennis Court 1"
        ],
        [
         "Charles Owen",
         "Tennis Court 2"
        ],
        [
         "Charles Owen",
         "Tennis Court 1"
        ],
        [
         "Darren Smith",
         "Tennis Court 1"
        ],
        [
         "Darren Smith",
         "Tennis Court 2"
        ],
        [
         "David Farrell",
         "Tennis Court 2"
        ],
        [
         "David Farrell",
         "Tennis Court 1"
        ],
        [
         "David Jones",
         "Tennis Court 2"
        ],
        [
         "David Jones",
         "Tennis Court 1"
        ],
        [
         "David Pinker",
         "Tennis Court 1"
        ],
        [
         "David Pinker",
         "Tennis Court 2"
        ],
        [
         "Douglas Jones",
         "Tennis Court 2"
        ],
        [
         "Douglas Jones",
         "Tennis Court 1"
        ],
        [
         "Erica Crumpet",
         "Tennis Court 1"
        ],
        [
         "Erica Crumpet",
         "Tennis Court 2"
        ],
        [
         "Florence Bader",
         "Tennis Court 1"
        ],
        [
         "Florence Bader",
         "Tennis Court 2"
        ],
        [
         "GUEST GUEST",
         "Tennis Court 2"
        ],
        [
         "GUEST GUEST",
         "Tennis Court 1"
        ],
        [
         "Gerald Butters",
         "Tennis Court 1"
        ],
        [
         "Gerald Butters",
         "Tennis Court 2"
        ],
        [
         "Henrietta Rumney",
         "Tennis Court 1"
        ],
        [
         "Henrietta Rumney",
         "Tennis Court 2"
        ],
        [
         "Henry Worthington-Smyth",
         "Tennis Court 1"
        ],
        [
         "Henry Worthington-Smyth",
         "Tennis Court 2"
        ],
        [
         "Hyacinth Tupperware",
         "Tennis Court 1"
        ],
        [
         "Hyacinth Tupperware",
         "Tennis Court 2"
        ],
        [
         "Jack Smith",
         "Tennis Court 2"
        ],
        [
         "Jack Smith",
         "Tennis Court 1"
        ],
        [
         "Janice Joplette",
         "Tennis Court 1"
        ],
        [
         "Janice Joplette",
         "Tennis Court 2"
        ],
        [
         "Jemima Farrell",
         "Tennis Court 1"
        ],
        [
         "Jemima Farrell",
         "Tennis Court 2"
        ],
        [
         "Joan Coplin",
         "Tennis Court 1"
        ],
        [
         "Joan Coplin",
         "Tennis Court 2"
        ],
        [
         "John Hunt",
         "Tennis Court 2"
        ],
        [
         "John Hunt",
         "Tennis Court 1"
        ],
        [
         "Matthew Genting",
         "Tennis Court 2"
        ],
        [
         "Matthew Genting",
         "Tennis Court 1"
        ],
        [
         "Millicent Purview",
         "Tennis Court 2"
        ],
        [
         "Millicent Purview",
         "Tennis Court 1"
        ],
        [
         "Nancy Dare",
         "Tennis Court 1"
        ],
        [
         "Nancy Dare",
         "Tennis Court 2"
        ],
        [
         "Ponder Stibbons",
         "Tennis Court 1"
        ],
        [
         "Ponder Stibbons",
         "Tennis Court 2"
        ],
        [
         "Ramnaresh Sarwin",
         "Tennis Court 1"
        ],
        [
         "Ramnaresh Sarwin",
         "Tennis Court 2"
        ],
        [
         "Tim Boothe",
         "Tennis Court 1"
        ],
        [
         "Tim Boothe",
         "Tennis Court 2"
        ],
        [
         "Tim Rownam",
         "Tennis Court 1"
        ],
        [
         "Tim Rownam",
         "Tennis Court 2"
        ],
        [
         "Timothy Baker",
         "Tennis Court 1"
        ],
        [
         "Timothy Baker",
         "Tennis Court 2"
        ],
        [
         "Tracy Smith",
         "Tennis Court 2"
        ],
        [
         "Tracy Smith",
         "Tennis Court 1"
        ]
       ],
       "datasetInfos": [],
       "dbfsResultPath": null,
       "isJsonSchema": true,
       "metadata": {},
       "overflow": false,
       "plotOptions": {
        "customPlotOptions": {},
        "displayType": "table",
        "pivotAggregation": null,
        "pivotColumns": null,
        "xColumns": null,
        "yColumns": null
       },
       "removedWidgets": [],
       "schema": [
        {
         "metadata": "{}",
         "name": "member_name",
         "type": "\"string\""
        },
        {
         "metadata": "{}",
         "name": "name_of_court",
         "type": "\"string\""
        }
       ],
       "type": "table"
      }
     },
     "output_type": "display_data"
    }
   ],
   "source": [
    "%sql\n",
    "select distinct(CONCAT(members.firstname, ' ', members.surname)) as member_name,\n",
    "facilities.name as name_of_court\n",
    "from members \n",
    "join facilities \n",
    "where facilities.facid in (0, 1)\n",
    "and exists\n",
    "(select bookings.memid \n",
    "from bookings \n",
    "where members.memid = bookings.memid)\n",
    "order by member_name;"
   ]
  },
  {
   "cell_type": "markdown",
   "metadata": {
    "application/vnd.databricks.v1+cell": {
     "cellMetadata": {},
     "inputWidgets": {},
     "nuid": "8a1252ae-4691-4d5b-960b-107d62864400",
     "showTitle": false,
     "title": ""
    }
   },
   "source": [
    "#### Q8: How can you produce a list of bookings on the day of 2012-09-14 which will cost the member (or guest) more than $30? \n",
    "\n",
    "- Remember that guests have different costs to members (the listed costs are per half-hour 'slot')\n",
    "- The guest user's ID is always 0. \n",
    "\n",
    "#### Include in your output the name of the facility, the name of the member formatted as a single column, and the cost.\n",
    "\n",
    "- Order by descending cost, and do not use any subqueries."
   ]
  },
  {
   "cell_type": "code",
   "execution_count": null,
   "metadata": {
    "application/vnd.databricks.v1+cell": {
     "cellMetadata": {
      "implicitDf": true
     },
     "inputWidgets": {},
     "nuid": "2be77adb-f7cf-47da-a225-17c812089fa6",
     "showTitle": false,
     "title": ""
    }
   },
   "outputs": [
    {
     "data": {
      "text/html": [
       "<style scoped>\n",
       "  .table-result-container {\n",
       "    max-height: 300px;\n",
       "    overflow: auto;\n",
       "  }\n",
       "  table, th, td {\n",
       "    border: 1px solid black;\n",
       "    border-collapse: collapse;\n",
       "  }\n",
       "  th, td {\n",
       "    padding: 5px;\n",
       "  }\n",
       "  th {\n",
       "    text-align: left;\n",
       "  }\n",
       "</style><div class='table-result-container'><table class='table-result'><thead style='background-color: white'><tr><th>bookid</th><th>name</th><th>member_name</th><th>total_cost</th></tr></thead><tbody><tr><td>2946</td><td>Massage Room 2</td><td>GUEST GUEST</td><td>320.0</td></tr><tr><td>2937</td><td>Massage Room 1</td><td>GUEST GUEST</td><td>160.0</td></tr><tr><td>2940</td><td>Massage Room 1</td><td>GUEST GUEST</td><td>160.0</td></tr><tr><td>2942</td><td>Massage Room 1</td><td>GUEST GUEST</td><td>160.0</td></tr><tr><td>2926</td><td>Tennis Court 2</td><td>GUEST GUEST</td><td>150.0</td></tr><tr><td>2920</td><td>Tennis Court 1</td><td>GUEST GUEST</td><td>75.0</td></tr><tr><td>2922</td><td>Tennis Court 1</td><td>GUEST GUEST</td><td>75.0</td></tr><tr><td>2925</td><td>Tennis Court 2</td><td>GUEST GUEST</td><td>75.0</td></tr><tr><td>2948</td><td>Squash Court</td><td>GUEST GUEST</td><td>70.0</td></tr><tr><td>2941</td><td>Massage Room 1</td><td>Jemima Farrell</td><td>39.6</td></tr><tr><td>2949</td><td>Squash Court</td><td>GUEST GUEST</td><td>35.0</td></tr><tr><td>2951</td><td>Squash Court</td><td>GUEST GUEST</td><td>35.0</td></tr></tbody></table></div>"
      ]
     },
     "metadata": {
      "application/vnd.databricks.v1+output": {
       "addedWidgets": {},
       "aggData": [],
       "aggError": "",
       "aggOverflow": false,
       "aggSchema": [],
       "aggSeriesLimitReached": false,
       "aggType": "",
       "arguments": {},
       "columnCustomDisplayInfos": {},
       "data": [
        [
         2946,
         "Massage Room 2",
         "GUEST GUEST",
         320
        ],
        [
         2937,
         "Massage Room 1",
         "GUEST GUEST",
         160
        ],
        [
         2940,
         "Massage Room 1",
         "GUEST GUEST",
         160
        ],
        [
         2942,
         "Massage Room 1",
         "GUEST GUEST",
         160
        ],
        [
         2926,
         "Tennis Court 2",
         "GUEST GUEST",
         150
        ],
        [
         2920,
         "Tennis Court 1",
         "GUEST GUEST",
         75
        ],
        [
         2922,
         "Tennis Court 1",
         "GUEST GUEST",
         75
        ],
        [
         2925,
         "Tennis Court 2",
         "GUEST GUEST",
         75
        ],
        [
         2948,
         "Squash Court",
         "GUEST GUEST",
         70
        ],
        [
         2941,
         "Massage Room 1",
         "Jemima Farrell",
         39.6
        ],
        [
         2949,
         "Squash Court",
         "GUEST GUEST",
         35
        ],
        [
         2951,
         "Squash Court",
         "GUEST GUEST",
         35
        ]
       ],
       "datasetInfos": [],
       "dbfsResultPath": null,
       "isJsonSchema": true,
       "metadata": {},
       "overflow": false,
       "plotOptions": {
        "customPlotOptions": {},
        "displayType": "table",
        "pivotAggregation": null,
        "pivotColumns": null,
        "xColumns": null,
        "yColumns": null
       },
       "removedWidgets": [],
       "schema": [
        {
         "metadata": "{}",
         "name": "bookid",
         "type": "\"integer\""
        },
        {
         "metadata": "{}",
         "name": "name",
         "type": "\"string\""
        },
        {
         "metadata": "{}",
         "name": "member_name",
         "type": "\"string\""
        },
        {
         "metadata": "{}",
         "name": "total_cost",
         "type": "\"double\""
        }
       ],
       "type": "table"
      }
     },
     "output_type": "display_data"
    }
   ],
   "source": [
    "%sql\n",
    "select b.bookid, \n",
    "f.name, \n",
    "CONCAT(m.firstname, ' ', m.surname) as member_name,\n",
    "(case when (m.memid = 0) then f.guestcost else f.membercost end)*b.slots as total_cost\n",
    "from bookings b \n",
    "join facilities f on b.facid = f.facid\n",
    "join members m on b.memid = m.memid\n",
    "where (cast(b.starttime as date) = date(\"2012-09-14\"))\n",
    "and ((case when (m.memid = 0) then f.guestcost else f.membercost end)*b.slots > 30)\n",
    "order by total_cost desc;"
   ]
  },
  {
   "cell_type": "markdown",
   "metadata": {
    "application/vnd.databricks.v1+cell": {
     "cellMetadata": {},
     "inputWidgets": {},
     "nuid": "3103d850-1213-41f5-bb86-41e0a04c227f",
     "showTitle": false,
     "title": ""
    }
   },
   "source": [
    "#### Q9: This time, produce the same result as in Q8, but using a subquery."
   ]
  },
  {
   "cell_type": "code",
   "execution_count": null,
   "metadata": {
    "application/vnd.databricks.v1+cell": {
     "cellMetadata": {
      "implicitDf": true
     },
     "inputWidgets": {},
     "nuid": "9034b8d2-2439-4115-ad16-c989f651094e",
     "showTitle": false,
     "title": ""
    }
   },
   "outputs": [
    {
     "data": {
      "text/html": [
       "<style scoped>\n",
       "  .table-result-container {\n",
       "    max-height: 300px;\n",
       "    overflow: auto;\n",
       "  }\n",
       "  table, th, td {\n",
       "    border: 1px solid black;\n",
       "    border-collapse: collapse;\n",
       "  }\n",
       "  th, td {\n",
       "    padding: 5px;\n",
       "  }\n",
       "  th {\n",
       "    text-align: left;\n",
       "  }\n",
       "</style><div class='table-result-container'><table class='table-result'><thead style='background-color: white'><tr><th>bookid</th><th>name</th><th>member_name</th><th>total_cost</th></tr></thead><tbody><tr><td>2946</td><td>Massage Room 2</td><td>GUEST GUEST</td><td>320.0</td></tr><tr><td>2937</td><td>Massage Room 1</td><td>GUEST GUEST</td><td>160.0</td></tr><tr><td>2940</td><td>Massage Room 1</td><td>GUEST GUEST</td><td>160.0</td></tr><tr><td>2942</td><td>Massage Room 1</td><td>GUEST GUEST</td><td>160.0</td></tr><tr><td>2926</td><td>Tennis Court 2</td><td>GUEST GUEST</td><td>150.0</td></tr><tr><td>2920</td><td>Tennis Court 1</td><td>GUEST GUEST</td><td>75.0</td></tr><tr><td>2922</td><td>Tennis Court 1</td><td>GUEST GUEST</td><td>75.0</td></tr><tr><td>2925</td><td>Tennis Court 2</td><td>GUEST GUEST</td><td>75.0</td></tr><tr><td>2948</td><td>Squash Court</td><td>GUEST GUEST</td><td>70.0</td></tr><tr><td>2941</td><td>Massage Room 1</td><td>Jemima Farrell</td><td>39.6</td></tr><tr><td>2949</td><td>Squash Court</td><td>GUEST GUEST</td><td>35.0</td></tr><tr><td>2951</td><td>Squash Court</td><td>GUEST GUEST</td><td>35.0</td></tr></tbody></table></div>"
      ]
     },
     "metadata": {
      "application/vnd.databricks.v1+output": {
       "addedWidgets": {},
       "aggData": [],
       "aggError": "",
       "aggOverflow": false,
       "aggSchema": [],
       "aggSeriesLimitReached": false,
       "aggType": "",
       "arguments": {},
       "columnCustomDisplayInfos": {},
       "data": [
        [
         2946,
         "Massage Room 2",
         "GUEST GUEST",
         320
        ],
        [
         2937,
         "Massage Room 1",
         "GUEST GUEST",
         160
        ],
        [
         2940,
         "Massage Room 1",
         "GUEST GUEST",
         160
        ],
        [
         2942,
         "Massage Room 1",
         "GUEST GUEST",
         160
        ],
        [
         2926,
         "Tennis Court 2",
         "GUEST GUEST",
         150
        ],
        [
         2920,
         "Tennis Court 1",
         "GUEST GUEST",
         75
        ],
        [
         2922,
         "Tennis Court 1",
         "GUEST GUEST",
         75
        ],
        [
         2925,
         "Tennis Court 2",
         "GUEST GUEST",
         75
        ],
        [
         2948,
         "Squash Court",
         "GUEST GUEST",
         70
        ],
        [
         2941,
         "Massage Room 1",
         "Jemima Farrell",
         39.6
        ],
        [
         2949,
         "Squash Court",
         "GUEST GUEST",
         35
        ],
        [
         2951,
         "Squash Court",
         "GUEST GUEST",
         35
        ]
       ],
       "datasetInfos": [],
       "dbfsResultPath": null,
       "isJsonSchema": true,
       "metadata": {},
       "overflow": false,
       "plotOptions": {
        "customPlotOptions": {},
        "displayType": "table",
        "pivotAggregation": null,
        "pivotColumns": null,
        "xColumns": null,
        "yColumns": null
       },
       "removedWidgets": [],
       "schema": [
        {
         "metadata": "{}",
         "name": "bookid",
         "type": "\"integer\""
        },
        {
         "metadata": "{}",
         "name": "name",
         "type": "\"string\""
        },
        {
         "metadata": "{}",
         "name": "member_name",
         "type": "\"string\""
        },
        {
         "metadata": "{}",
         "name": "total_cost",
         "type": "\"double\""
        }
       ],
       "type": "table"
      }
     },
     "output_type": "display_data"
    }
   ],
   "source": [
    "%sql\n",
    "select b.bookid, \n",
    "f.name, \n",
    "CONCAT(m.firstname, ' ', m.surname) as member_name,\n",
    "(case when (m.memid = 0) then f.guestcost else f.membercost end)*b.slots as total_cost\n",
    "from bookings b \n",
    "join facilities f on b.facid = f.facid\n",
    "join members m on b.memid = m.memid\n",
    "where ((case when (m.memid = 0) then f.guestcost else f.membercost end)*b.slots > 30)\n",
    "and b.bookid in (select b.bookid from bookings b where (cast(b.starttime as date) = date(\"2012-09-14\")))\n",
    "order by total_cost desc;"
   ]
  },
  {
   "cell_type": "markdown",
   "metadata": {
    "application/vnd.databricks.v1+cell": {
     "cellMetadata": {},
     "inputWidgets": {},
     "nuid": "956eb12d-a7f7-48f0-88b2-fe5b7c371b42",
     "showTitle": false,
     "title": ""
    }
   },
   "source": [
    "#### Q10: Produce a list of facilities with a total revenue less than 1000.\n",
    "- The output should have facility name and total revenue, sorted by revenue. \n",
    "- Remember that there's a different cost for guests and members!"
   ]
  },
  {
   "cell_type": "code",
   "execution_count": null,
   "metadata": {
    "application/vnd.databricks.v1+cell": {
     "cellMetadata": {
      "implicitDf": true
     },
     "inputWidgets": {},
     "nuid": "fc8d1603-e58f-4ca3-b044-3bcbb2d0c6cb",
     "showTitle": false,
     "title": ""
    }
   },
   "outputs": [
    {
     "data": {
      "text/html": [
       "<style scoped>\n",
       "  .table-result-container {\n",
       "    max-height: 300px;\n",
       "    overflow: auto;\n",
       "  }\n",
       "  table, th, td {\n",
       "    border: 1px solid black;\n",
       "    border-collapse: collapse;\n",
       "  }\n",
       "  th, td {\n",
       "    padding: 5px;\n",
       "  }\n",
       "  th {\n",
       "    text-align: left;\n",
       "  }\n",
       "</style><div class='table-result-container'><table class='table-result'><thead style='background-color: white'><tr><th>revenue</th><th>name</th></tr></thead><tbody><tr><td>180.0</td><td>Table Tennis</td></tr><tr><td>240.0</td><td>Snooker Table</td></tr><tr><td>270.0</td><td>Pool Table</td></tr></tbody></table></div>"
      ]
     },
     "metadata": {
      "application/vnd.databricks.v1+output": {
       "addedWidgets": {},
       "aggData": [],
       "aggError": "",
       "aggOverflow": false,
       "aggSchema": [],
       "aggSeriesLimitReached": false,
       "aggType": "",
       "arguments": {},
       "columnCustomDisplayInfos": {},
       "data": [
        [
         180,
         "Table Tennis"
        ],
        [
         240,
         "Snooker Table"
        ],
        [
         270,
         "Pool Table"
        ]
       ],
       "datasetInfos": [],
       "dbfsResultPath": null,
       "isJsonSchema": true,
       "metadata": {},
       "overflow": false,
       "plotOptions": {
        "customPlotOptions": {},
        "displayType": "table",
        "pivotAggregation": null,
        "pivotColumns": null,
        "xColumns": null,
        "yColumns": null
       },
       "removedWidgets": [],
       "schema": [
        {
         "metadata": "{}",
         "name": "revenue",
         "type": "\"double\""
        },
        {
         "metadata": "{}",
         "name": "name",
         "type": "\"string\""
        }
       ],
       "type": "table"
      }
     },
     "output_type": "display_data"
    }
   ],
   "source": [
    "%sql\n",
    "select sum((case when (b.memid = 0) then f.guestcost else f.membercost end)*b.slots) as revenue,\n",
    "f.name\n",
    "from bookings b, facilities f\n",
    "where b.facid = f.facid\n",
    "group by f.name\n",
    "having (sum((case when (b.memid = 0) then f.guestcost else f.membercost end)*b.slots) < 1000)\n",
    "order by revenue;"
   ]
  },
  {
   "cell_type": "code",
   "execution_count": null,
   "metadata": {
    "application/vnd.databricks.v1+cell": {
     "cellMetadata": {},
     "inputWidgets": {},
     "nuid": "d3196c85-8aad-47bf-b2db-7ed7a810a9ad",
     "showTitle": false,
     "title": ""
    }
   },
   "outputs": [],
   "source": [
    "# the following cell shows total revenues per each facilities"
   ]
  },
  {
   "cell_type": "code",
   "execution_count": null,
   "metadata": {
    "application/vnd.databricks.v1+cell": {
     "cellMetadata": {
      "implicitDf": true
     },
     "inputWidgets": {},
     "nuid": "7e0d914c-5696-4439-b24a-b94f11be3091",
     "showTitle": false,
     "title": ""
    }
   },
   "outputs": [
    {
     "data": {
      "text/html": [
       "<style scoped>\n",
       "  .table-result-container {\n",
       "    max-height: 300px;\n",
       "    overflow: auto;\n",
       "  }\n",
       "  table, th, td {\n",
       "    border: 1px solid black;\n",
       "    border-collapse: collapse;\n",
       "  }\n",
       "  th, td {\n",
       "    padding: 5px;\n",
       "  }\n",
       "  th {\n",
       "    text-align: left;\n",
       "  }\n",
       "</style><div class='table-result-container'><table class='table-result'><thead style='background-color: white'><tr><th>revenue</th><th>name</th></tr></thead><tbody><tr><td>180.0</td><td>Table Tennis</td></tr><tr><td>240.0</td><td>Snooker Table</td></tr><tr><td>270.0</td><td>Pool Table</td></tr><tr><td>1906.5</td><td>Badminton Court</td></tr><tr><td>13468.0</td><td>Squash Court</td></tr><tr><td>13860.0</td><td>Tennis Court 1</td></tr><tr><td>14310.0</td><td>Tennis Court 2</td></tr><tr><td>14454.599999999995</td><td>Massage Room 2</td></tr><tr><td>50351.600000000275</td><td>Massage Room 1</td></tr></tbody></table></div>"
      ]
     },
     "metadata": {
      "application/vnd.databricks.v1+output": {
       "addedWidgets": {},
       "aggData": [],
       "aggError": "",
       "aggOverflow": false,
       "aggSchema": [],
       "aggSeriesLimitReached": false,
       "aggType": "",
       "arguments": {},
       "columnCustomDisplayInfos": {},
       "data": [
        [
         180,
         "Table Tennis"
        ],
        [
         240,
         "Snooker Table"
        ],
        [
         270,
         "Pool Table"
        ],
        [
         1906.5,
         "Badminton Court"
        ],
        [
         13468,
         "Squash Court"
        ],
        [
         13860,
         "Tennis Court 1"
        ],
        [
         14310,
         "Tennis Court 2"
        ],
        [
         14454.599999999995,
         "Massage Room 2"
        ],
        [
         50351.600000000275,
         "Massage Room 1"
        ]
       ],
       "datasetInfos": [],
       "dbfsResultPath": null,
       "isJsonSchema": true,
       "metadata": {},
       "overflow": false,
       "plotOptions": {
        "customPlotOptions": {},
        "displayType": "table",
        "pivotAggregation": null,
        "pivotColumns": null,
        "xColumns": null,
        "yColumns": null
       },
       "removedWidgets": [],
       "schema": [
        {
         "metadata": "{}",
         "name": "revenue",
         "type": "\"double\""
        },
        {
         "metadata": "{}",
         "name": "name",
         "type": "\"string\""
        }
       ],
       "type": "table"
      }
     },
     "output_type": "display_data"
    }
   ],
   "source": [
    "%sql\n",
    "select sum((case when (b.memid = 0) then f.guestcost else f.membercost end)*b.slots) as revenue,\n",
    "f.name\n",
    "from bookings b, facilities f\n",
    "where b.facid = f.facid\n",
    "group by f.name\n",
    "order by revenue;"
   ]
  }
 ],
 "metadata": {
  "application/vnd.databricks.v1+notebook": {
   "dashboards": [],
   "language": "python",
   "notebookMetadata": {
    "mostRecentlyExecutedCommandWithImplicitDF": {
     "commandId": 1192608533867755,
     "dataframes": [
      "_sqldf"
     ]
    },
    "pythonIndentUnit": 4
   },
   "notebookName": "Mini_Project_SQL_with_Spark",
   "notebookOrigID": 1192608533867728,
   "widgets": {}
  },
  "kernelspec": {
   "display_name": "virat3.10",
   "language": "python",
   "name": "virat3.10"
  },
  "language_info": {
   "codemirror_mode": {
    "name": "ipython",
    "version": 3
   },
   "file_extension": ".py",
   "mimetype": "text/x-python",
   "name": "python",
   "nbconvert_exporter": "python",
   "pygments_lexer": "ipython3",
   "version": "3.10.11"
  },
  "name": "Mini_Project_SQL_with_Spark",
  "notebookId": 1931807081501742
 },
 "nbformat": 4,
 "nbformat_minor": 4
}
