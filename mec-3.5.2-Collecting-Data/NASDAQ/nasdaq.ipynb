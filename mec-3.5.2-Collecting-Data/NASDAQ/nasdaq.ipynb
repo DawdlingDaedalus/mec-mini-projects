{
 "cells": [
  {
   "cell_type": "markdown",
   "id": "db1244e8",
   "metadata": {},
   "source": [
    "# Federal Reserve Economic Data from NASDAQ"
   ]
  },
  {
   "cell_type": "markdown",
   "id": "c9b7c6a0",
   "metadata": {},
   "source": [
    "https://data.nadaq.com/"
   ]
  },
  {
   "cell_type": "code",
   "execution_count": 5,
   "id": "f3dbeb67",
   "metadata": {},
   "outputs": [],
   "source": [
    "import os\n",
    "from dotenv import load_dotenv\n",
    "import requests\n",
    "import json\n",
    "import pandas as pd\n",
    "import numpy as np\n",
    "import matplotlib.pyplot as plt"
   ]
  },
  {
   "cell_type": "code",
   "execution_count": 4,
   "id": "30509891",
   "metadata": {},
   "outputs": [
    {
     "data": {
      "text/plain": [
       "str"
      ]
     },
     "execution_count": 4,
     "metadata": {},
     "output_type": "execute_result"
    }
   ],
   "source": [
    "load_dotenv()\n",
    "API_KEY = os.getenv('NASDAQ_API_KEY')\n",
    "type(API_KEY)"
   ]
  },
  {
   "cell_type": "code",
   "execution_count": null,
   "id": "66dbada4",
   "metadata": {},
   "outputs": [],
   "source": []
  }
 ],
 "metadata": {
  "kernelspec": {
   "display_name": "Python 3 (ipykernel)",
   "language": "python",
   "name": "python3"
  },
  "language_info": {
   "codemirror_mode": {
    "name": "ipython",
    "version": 3
   },
   "file_extension": ".py",
   "mimetype": "text/x-python",
   "name": "python",
   "nbconvert_exporter": "python",
   "pygments_lexer": "ipython3",
   "version": "3.9.12"
  }
 },
 "nbformat": 4,
 "nbformat_minor": 5
}
